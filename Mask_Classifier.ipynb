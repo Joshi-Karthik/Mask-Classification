{
  "nbformat": 4,
  "nbformat_minor": 0,
  "metadata": {
    "colab": {
      "name": "Mask Classifier.ipynb",
      "provenance": [],
      "collapsed_sections": [],
      "toc_visible": true
    },
    "kernelspec": {
      "name": "python3",
      "display_name": "Python 3"
    },
    "accelerator": "GPU"
  },
  "cells": [
    {
      "cell_type": "markdown",
      "metadata": {
        "id": "lP6JLo1tGNBg"
      },
      "source": [
        "# Mask Classification "
      ]
    },
    {
      "cell_type": "markdown",
      "metadata": {
        "id": "gWZyYmS_UE_L"
      },
      "source": [
        "### Importing the libraries"
      ]
    },
    {
      "cell_type": "code",
      "metadata": {
        "id": "MxkJoQBkUIHC"
      },
      "source": [
        "from tensorflow.keras.preprocessing.image import ImageDataGenerator\n",
        "from tensorflow.keras.applications import MobileNetV2\n",
        "from tensorflow.keras.layers import AveragePooling2D\n",
        "from tensorflow.keras.layers import Dropout\n",
        "from tensorflow.keras.layers import Flatten\n",
        "from tensorflow.keras.layers import Dense\n",
        "from tensorflow.keras.layers import Input\n",
        "from tensorflow.keras.models import Model\n",
        "from tensorflow.keras.optimizers import Adam\n",
        "from tensorflow.keras.applications.mobilenet_v2 import preprocess_input\n",
        "from tensorflow.keras.preprocessing.image import img_to_array\n",
        "from tensorflow.keras.preprocessing.image import load_img\n",
        "from tensorflow.keras.utils import to_categorical\n",
        "from sklearn.preprocessing import LabelBinarizer\n",
        "from sklearn.model_selection import train_test_split\n",
        "from sklearn.metrics import classification_report\n",
        "from imutils import paths\n",
        "import matplotlib.pyplot as plt\n",
        "import numpy as np\n",
        "import argparse\n",
        "import os\n",
        "import random\n",
        "import cv2\n",
        "import matplotlib\n",
        "matplotlib.use(\"Agg\")\n",
        "\n"
      ],
      "execution_count": 170,
      "outputs": []
    },
    {
      "cell_type": "markdown",
      "metadata": {
        "id": "1E0Q3aoKUCRX"
      },
      "source": [
        "## Part 1 - Data Preprocessing"
      ]
    },
    {
      "cell_type": "markdown",
      "metadata": {
        "id": "cKWAkFVGUU0Z"
      },
      "source": [
        "### Importing the dataset"
      ]
    },
    {
      "cell_type": "code",
      "metadata": {
        "id": "MXUkhkMfU4wq"
      },
      "source": [
        "data = []\n",
        "labels = []\n",
        "\n",
        "imagePaths=[]\n",
        "directory = ['/content/drive/My Drive/MaskDetector Dataset/Allowed/','/content/drive/My Drive/MaskDetector Dataset/Not Allowed/','/content/drive/My Drive/MaskDetector Dataset/Please put on the Mask/']\n",
        "for dir in directory:\n",
        "  for filename in os.listdir(dir):\n",
        "    imagePaths.append(dir+filename)\n",
        "# grab the image paths and randomly shuffle them\n",
        "random.seed(42)\n",
        "random.shuffle(imagePaths)"
      ],
      "execution_count": 171,
      "outputs": []
    },
    {
      "cell_type": "markdown",
      "metadata": {
        "id": "Ti5LNty0h6Ff"
      },
      "source": [
        "### Loading Images and labels"
      ]
    },
    {
      "cell_type": "code",
      "metadata": {
        "id": "myrr7B5EhiG-"
      },
      "source": [
        "for imagePath in imagePaths:\n",
        "\t# extract the class label from the filename\n",
        "\tlabel = imagePath.split(os.path.sep)[-2]\n",
        "\n",
        "\t# load the input image (224x224) and preprocess it\n",
        "\timage = load_img(imagePath, target_size=(224, 224))\n",
        "\timage = img_to_array(image)\n",
        "\timage = preprocess_input(image)\n",
        "\n",
        "\t# update the data and labels lists, respectively\n",
        "\tdata.append(image)\n",
        "\tlabels.append(label)"
      ],
      "execution_count": 172,
      "outputs": []
    },
    {
      "cell_type": "markdown",
      "metadata": {
        "id": "N6bQ0UgSU-NJ"
      },
      "source": [
        "### Encoding categorical data"
      ]
    },
    {
      "cell_type": "code",
      "metadata": {
        "id": "PxVKWXxLbczC",
        "outputId": "8c751b48-22c4-431c-ed54-25d747e2cab0",
        "colab": {
          "base_uri": "https://localhost:8080/",
          "height": 34
        }
      },
      "source": [
        "import pandas as pd\n",
        "from sklearn.preprocessing import LabelEncoder, OneHotEncoder\n",
        "data = np.array(data, dtype=\"float32\")\n",
        "#labels = np.array(labels)\n",
        "labels=pd.DataFrame(labels,columns=['lab'])\n",
        "class_labels=list(labels.lab.unique())\n",
        "print(class_labels)\n",
        "\n",
        "#One Hot Encoding\n",
        "labels = labels.lab.values\n",
        "onehotencoder = OneHotEncoder(categories='auto')\n",
        "labels = onehotencoder.fit_transform(labels.reshape(-1,1))"
      ],
      "execution_count": 173,
      "outputs": [
        {
          "output_type": "stream",
          "text": [
            "['Allowed', 'Please put on the Mask', 'Not Allowed']\n"
          ],
          "name": "stdout"
        }
      ]
    },
    {
      "cell_type": "code",
      "metadata": {
        "id": "AMXC8-KMVirw",
        "outputId": "4d9332dd-9038-46c7-b284-1ab538fa61d8",
        "colab": {
          "base_uri": "https://localhost:8080/",
          "height": 136
        }
      },
      "source": [
        "labels=labels.toarray()\n",
        "print('One hot encoded output', labels)"
      ],
      "execution_count": 174,
      "outputs": [
        {
          "output_type": "stream",
          "text": [
            "One hot encoded output [[1. 0. 0.]\n",
            " [0. 0. 1.]\n",
            " [0. 1. 0.]\n",
            " ...\n",
            " [1. 0. 0.]\n",
            " [1. 0. 0.]\n",
            " [0. 0. 1.]]\n"
          ],
          "name": "stdout"
        }
      ]
    },
    {
      "cell_type": "markdown",
      "metadata": {
        "id": "vHol938cW8zd"
      },
      "source": [
        "### Splitting the dataset into the Training set and Test set"
      ]
    },
    {
      "cell_type": "code",
      "metadata": {
        "id": "Z-TDt0Y_XEfc"
      },
      "source": [
        "(trainX, testX, trainY, testY) = train_test_split(data, labels,\n",
        "\ttest_size=0.20, stratify=labels, random_state=42)"
      ],
      "execution_count": 175,
      "outputs": []
    },
    {
      "cell_type": "markdown",
      "metadata": {
        "id": "RE_FcHyfV3TQ"
      },
      "source": [
        "### Data Augementation "
      ]
    },
    {
      "cell_type": "code",
      "metadata": {
        "id": "ViCrE00rV8Sk"
      },
      "source": [
        "aug = ImageDataGenerator(\n",
        "\trotation_range=20,\n",
        "\tzoom_range=0.15,\n",
        "\twidth_shift_range=0.2,\n",
        "\theight_shift_range=0.2,\n",
        "\tshear_range=0.15,\n",
        "\thorizontal_flip=True,\n",
        "\tfill_mode=\"nearest\")"
      ],
      "execution_count": 176,
      "outputs": []
    },
    {
      "cell_type": "markdown",
      "metadata": {
        "id": "-zfEzkRVXIwF"
      },
      "source": [
        "##  Part 2 - Loading and Building the Model - MobileNet2"
      ]
    },
    {
      "cell_type": "code",
      "metadata": {
        "id": "Cn3x41RBYfvY",
        "outputId": "e8462ac1-be84-4305-a720-2b90fba601f9",
        "colab": {
          "base_uri": "https://localhost:8080/",
          "height": 88
        }
      },
      "source": [
        "baseModel = MobileNetV2(weights=\"imagenet\", include_top=False,input_tensor=Input(shape=(224, 224, 3)))\n",
        "headModel = baseModel.output\n",
        "headModel = AveragePooling2D(pool_size=(7, 7))(headModel)\n",
        "headModel = Flatten(name=\"flatten\")(headModel)\n",
        "headModel = Dense(128, activation=\"relu\")(headModel)\n",
        "headModel = Dropout(0.5)(headModel)\n",
        "headModel = Dense(3, activation=\"softmax\")(headModel)\n",
        "\n",
        "# place the head FC model on top of the base model (this will become\n",
        "# the actual model we will train)\n",
        "model = Model(inputs=baseModel.input, outputs=headModel)"
      ],
      "execution_count": 177,
      "outputs": [
        {
          "output_type": "stream",
          "text": [
            "WARNING:tensorflow:`input_shape` is undefined or non-square, or `rows` is not in [96, 128, 160, 192, 224]. Weights for input shape (224, 224) will be loaded as the default.\n",
            "Downloading data from https://storage.googleapis.com/tensorflow/keras-applications/mobilenet_v2/mobilenet_v2_weights_tf_dim_ordering_tf_kernels_1.0_224_no_top.h5\n",
            "9412608/9406464 [==============================] - 0s 0us/step\n"
          ],
          "name": "stdout"
        }
      ]
    },
    {
      "cell_type": "code",
      "metadata": {
        "id": "MrcSLLiRmR3Z"
      },
      "source": [
        "for layer in baseModel.layers:\n",
        "\tlayer.trainable = False"
      ],
      "execution_count": 178,
      "outputs": []
    },
    {
      "cell_type": "markdown",
      "metadata": {
        "id": "0yzrHwrGnsTq"
      },
      "source": [
        "###  Compiling the Model"
      ]
    },
    {
      "cell_type": "code",
      "metadata": {
        "id": "TKdBLrEynf4m"
      },
      "source": [
        "INIT_LR = 1e-4\n",
        "EPOCHS = 20\n",
        "BS = 32\n",
        "opt = Adam(lr=INIT_LR, decay=INIT_LR / EPOCHS)\n",
        "model.compile(loss=\"categorical_crossentropy\", optimizer=opt,\n",
        "\tmetrics=[\"accuracy\"])"
      ],
      "execution_count": 179,
      "outputs": []
    },
    {
      "cell_type": "markdown",
      "metadata": {
        "id": "CpxBFopOoE5-"
      },
      "source": [
        "### Training "
      ]
    },
    {
      "cell_type": "code",
      "metadata": {
        "id": "zzV7lb2Gn8pM",
        "outputId": "f302663f-bc01-4d8d-ff9b-2fbd7a72e207",
        "colab": {
          "base_uri": "https://localhost:8080/",
          "height": 717
        }
      },
      "source": [
        "H = model.fit(\n",
        "\taug.flow(trainX, trainY, batch_size=BS),\n",
        "\tsteps_per_epoch=len(trainX) // BS,\n",
        "\tvalidation_data=(testX, testY),\n",
        "\tvalidation_steps=len(testX) // BS,\n",
        "\tepochs=EPOCHS)"
      ],
      "execution_count": 180,
      "outputs": [
        {
          "output_type": "stream",
          "text": [
            "Epoch 1/20\n",
            "68/68 [==============================] - 26s 387ms/step - loss: 0.9216 - accuracy: 0.5968 - val_loss: 0.3860 - val_accuracy: 0.8796\n",
            "Epoch 2/20\n",
            "68/68 [==============================] - 25s 369ms/step - loss: 0.4219 - accuracy: 0.8412 - val_loss: 0.2599 - val_accuracy: 0.9161\n",
            "Epoch 3/20\n",
            "68/68 [==============================] - 25s 371ms/step - loss: 0.2934 - accuracy: 0.8934 - val_loss: 0.2080 - val_accuracy: 0.9288\n",
            "Epoch 4/20\n",
            "68/68 [==============================] - 25s 369ms/step - loss: 0.2485 - accuracy: 0.9032 - val_loss: 0.1785 - val_accuracy: 0.9398\n",
            "Epoch 5/20\n",
            "68/68 [==============================] - 25s 367ms/step - loss: 0.2273 - accuracy: 0.9148 - val_loss: 0.1630 - val_accuracy: 0.9380\n",
            "Epoch 6/20\n",
            "68/68 [==============================] - 25s 367ms/step - loss: 0.2148 - accuracy: 0.9190 - val_loss: 0.1500 - val_accuracy: 0.9507\n",
            "Epoch 7/20\n",
            "68/68 [==============================] - 25s 367ms/step - loss: 0.1810 - accuracy: 0.9394 - val_loss: 0.1414 - val_accuracy: 0.9507\n",
            "Epoch 8/20\n",
            "68/68 [==============================] - 25s 367ms/step - loss: 0.1979 - accuracy: 0.9245 - val_loss: 0.1320 - val_accuracy: 0.9507\n",
            "Epoch 9/20\n",
            "68/68 [==============================] - 25s 366ms/step - loss: 0.1751 - accuracy: 0.9361 - val_loss: 0.1331 - val_accuracy: 0.9544\n",
            "Epoch 10/20\n",
            "68/68 [==============================] - 25s 367ms/step - loss: 0.1685 - accuracy: 0.9440 - val_loss: 0.1247 - val_accuracy: 0.9580\n",
            "Epoch 11/20\n",
            "68/68 [==============================] - 25s 367ms/step - loss: 0.1418 - accuracy: 0.9491 - val_loss: 0.1177 - val_accuracy: 0.9617\n",
            "Epoch 12/20\n",
            "68/68 [==============================] - 25s 367ms/step - loss: 0.1372 - accuracy: 0.9551 - val_loss: 0.1149 - val_accuracy: 0.9617\n",
            "Epoch 13/20\n",
            "68/68 [==============================] - 25s 369ms/step - loss: 0.1312 - accuracy: 0.9537 - val_loss: 0.1118 - val_accuracy: 0.9635\n",
            "Epoch 14/20\n",
            "68/68 [==============================] - 25s 368ms/step - loss: 0.1294 - accuracy: 0.9523 - val_loss: 0.1097 - val_accuracy: 0.9599\n",
            "Epoch 15/20\n",
            "68/68 [==============================] - 25s 369ms/step - loss: 0.1211 - accuracy: 0.9611 - val_loss: 0.1041 - val_accuracy: 0.9617\n",
            "Epoch 16/20\n",
            "68/68 [==============================] - 25s 366ms/step - loss: 0.1274 - accuracy: 0.9588 - val_loss: 0.0987 - val_accuracy: 0.9708\n",
            "Epoch 17/20\n",
            "68/68 [==============================] - 25s 366ms/step - loss: 0.1182 - accuracy: 0.9593 - val_loss: 0.0987 - val_accuracy: 0.9672\n",
            "Epoch 18/20\n",
            "68/68 [==============================] - 25s 367ms/step - loss: 0.1025 - accuracy: 0.9657 - val_loss: 0.0966 - val_accuracy: 0.9690\n",
            "Epoch 19/20\n",
            "68/68 [==============================] - 25s 364ms/step - loss: 0.1098 - accuracy: 0.9597 - val_loss: 0.0948 - val_accuracy: 0.9708\n",
            "Epoch 20/20\n",
            "68/68 [==============================] - 25s 365ms/step - loss: 0.1068 - accuracy: 0.9611 - val_loss: 0.0930 - val_accuracy: 0.9690\n"
          ],
          "name": "stdout"
        }
      ]
    },
    {
      "cell_type": "markdown",
      "metadata": {
        "id": "ItlCI3B5rkOe"
      },
      "source": [
        "### Evaluating the Network"
      ]
    },
    {
      "cell_type": "code",
      "metadata": {
        "id": "XWBev3uvrTnn",
        "outputId": "8dac5005-c314-4d26-b0de-9b1ee32c66f8",
        "colab": {
          "base_uri": "https://localhost:8080/",
          "height": 187
        }
      },
      "source": [
        "predIdxs = model.predict(testX, batch_size=BS)\n",
        "predictions = model.predict(x=testX, batch_size=32)\n",
        "print(classification_report(testY.argmax(axis=1),predictions.argmax(axis=1), target_names=class_labels))"
      ],
      "execution_count": 181,
      "outputs": [
        {
          "output_type": "stream",
          "text": [
            "                        precision    recall  f1-score   support\n",
            "\n",
            "               Allowed       0.96      0.95      0.96       185\n",
            "Please put on the Mask       0.95      0.96      0.96       196\n",
            "           Not Allowed       1.00      0.99      1.00       167\n",
            "\n",
            "              accuracy                           0.97       548\n",
            "             macro avg       0.97      0.97      0.97       548\n",
            "          weighted avg       0.97      0.97      0.97       548\n",
            "\n"
          ],
          "name": "stdout"
        }
      ]
    },
    {
      "cell_type": "code",
      "metadata": {
        "id": "6mNqEae0sbbz",
        "outputId": "590f7602-0e4f-418d-cefe-dc98b7d960ff",
        "colab": {
          "base_uri": "https://localhost:8080/",
          "height": 34
        }
      },
      "source": [
        "# Losses and Accuracy Graphs\n",
        "N = np.arange(0, EPOCHS)\n",
        "plt.style.use(\"ggplot\")\n",
        "plt.figure()\n",
        "plt.plot(N, H.history[\"loss\"], label=\"train_loss\")\n",
        "plt.plot(N, H.history[\"val_loss\"], label=\"val_loss\")\n",
        "plt.plot(N, H.history[\"accuracy\"], label=\"train_acc\")\n",
        "plt.plot(N, H.history[\"val_accuracy\"], label=\"val_acc\")\n",
        "plt.title(\"Training Loss and Accuracy\")\n",
        "plt.xlabel(\"Epoch #\")\n",
        "plt.ylabel(\"Loss/Accuracy\")\n",
        "plt.legend()"
      ],
      "execution_count": 182,
      "outputs": [
        {
          "output_type": "execute_result",
          "data": {
            "text/plain": [
              "<matplotlib.legend.Legend at 0x7f9cc35c8358>"
            ]
          },
          "metadata": {
            "tags": []
          },
          "execution_count": 182
        }
      ]
    },
    {
      "cell_type": "markdown",
      "metadata": {
        "id": "mCxfVd-7vHpj"
      },
      "source": [
        "## Part 3 -  Saving the model and labels for future"
      ]
    },
    {
      "cell_type": "code",
      "metadata": {
        "id": "qqVPpUh-vCF-"
      },
      "source": [
        "import pickle\n",
        "\n",
        "model.save('/content/drive/My Drive/MaskDetector Dataset/maskclassfier.model', save_format=\"h5\")\n",
        "f = open('/content/drive/My Drive/MaskDetector Dataset/labels_mask.pickle', \"wb\")\n",
        "f.write(pickle.dumps(class_labels))\n",
        "f.close()\n",
        "\n"
      ],
      "execution_count": 183,
      "outputs": []
    },
    {
      "cell_type": "markdown",
      "metadata": {
        "id": "aTxTP6Jlvsjm"
      },
      "source": [
        "## Part 4 - Detecting Faces and then Masked Faces"
      ]
    },
    {
      "cell_type": "code",
      "metadata": {
        "id": "l0RZ6bblvTJ_"
      },
      "source": [
        "from tensorflow.keras.applications.mobilenet_v2 import preprocess_input\n",
        "from tensorflow.keras.preprocessing.image import img_to_array\n",
        "from tensorflow.keras.models import load_model\n",
        "import numpy as np\n",
        "import argparse\n",
        "import cv2\n",
        "import os"
      ],
      "execution_count": 184,
      "outputs": []
    },
    {
      "cell_type": "markdown",
      "metadata": {
        "id": "QPT90KW-v_IF"
      },
      "source": [
        "### Loading the pretrained Face Detector Model"
      ]
    },
    {
      "cell_type": "code",
      "metadata": {
        "id": "sK0Vhakav-Jp"
      },
      "source": [
        "prototxtPath = '/content/drive/My Drive/face_detector/deploy.prototxt'\n",
        "weightsPath = '/content/drive/My Drive/face_detector/res10_300x300_ssd_iter_140000.caffemodel'\n",
        "net = cv2.dnn.readNet(prototxtPath, weightsPath)"
      ],
      "execution_count": 185,
      "outputs": []
    },
    {
      "cell_type": "markdown",
      "metadata": {
        "id": "M-MNnB34wQnZ"
      },
      "source": [
        "### Loading the Classifier model  and labels"
      ]
    },
    {
      "cell_type": "code",
      "metadata": {
        "id": "bpUwIchMwJag"
      },
      "source": [
        "model = load_model('/content/drive/My Drive/MaskDetector Dataset/maskclassfier.model')\n",
        "lb = pickle.loads(open('/content/drive/My Drive/MaskDetector Dataset/labels_mask.pickle', \"rb\").read())\n",
        "\n"
      ],
      "execution_count": 186,
      "outputs": []
    },
    {
      "cell_type": "markdown",
      "metadata": {
        "id": "QmeQ26sUw3IM"
      },
      "source": [
        "### Loading and Preprocessing Testing Image"
      ]
    },
    {
      "cell_type": "code",
      "metadata": {
        "id": "KgWmTtLl9sP1"
      },
      "source": [
        "image = cv2.imread('/content/drive/My Drive/example09.jpg')\n",
        "orig = image.copy()\n",
        "(h, w) = image.shape[:2]"
      ],
      "execution_count": 202,
      "outputs": []
    },
    {
      "cell_type": "code",
      "metadata": {
        "id": "9sqkhFsI90Rx"
      },
      "source": [
        "blob = cv2.dnn.blobFromImage(image, 1.0, (300, 300),(104.0, 177.0, 123.0))"
      ],
      "execution_count": 203,
      "outputs": []
    },
    {
      "cell_type": "code",
      "metadata": {
        "id": "i97OB8Ld92au"
      },
      "source": [
        "#Computing face detections\n",
        "net.setInput(blob)\n",
        "detections = net.forward()"
      ],
      "execution_count": 204,
      "outputs": []
    },
    {
      "cell_type": "code",
      "metadata": {
        "id": "NR_GwcH998dE",
        "outputId": "3cf5421f-09f4-470b-e7de-fc1777de8492",
        "colab": {
          "base_uri": "https://localhost:8080/",
          "height": 34
        }
      },
      "source": [
        "for i in range(0, detections.shape[2]):\n",
        "    confidence = detections[0, 0, i, 2]\n",
        "    if confidence > 0.5:\n",
        "        box = detections[0, 0, i, 3:7] * np.array([w, h, w, h])\n",
        "        (startX, startY, endX, endY) = box.astype(\"int\")\n",
        "        (startX, startY) = (max(0, startX), max(0, startY))\n",
        "        (endX, endY) = (min(w - 1, endX), min(h - 1, endY))\n",
        "        \n",
        "        face = image[startY:endY, startX:endX]\n",
        "        face = cv2.cvtColor(face, cv2.COLOR_BGR2RGB)\n",
        "        face = cv2.resize(face, (224, 224))\n",
        "        face = img_to_array(face)\n",
        "        face = preprocess_input(face)\n",
        "        face = np.expand_dims(face, axis=0) \n",
        "        preds = model.predict(face)\n",
        "        label = lb[preds.argmax(axis=1)[0]]\n",
        "        #print(label)\n",
        "        #print(preds)\n",
        "        \n",
        "        text = \"{}: {:.2f}%\".format(label,preds[0][i] * 100)\n",
        "        print(text)\n",
        "        cv2.putText(image, text, (startX, startY-10),cv2.FONT_HERSHEY_SIMPLEX, 0.7, (0, 0, 255), 2)\n",
        "        cv2.rectangle(image, (startX, startY), (endX, endY), (255, 0, 0), 2)\n",
        "    "
      ],
      "execution_count": 205,
      "outputs": [
        {
          "output_type": "stream",
          "text": [
            "Allowed: 99.94%\n"
          ],
          "name": "stdout"
        }
      ]
    },
    {
      "cell_type": "code",
      "metadata": {
        "id": "Ez4hRp9pxQxk",
        "outputId": "12391704-6678-467c-c362-637f02aeb145",
        "colab": {
          "base_uri": "https://localhost:8080/",
          "height": 204
        }
      },
      "source": [
        "from google.colab.patches import cv2_imshow\n",
        "cv2_imshow(image)\n",
        "cv2.waitKey(0)"
      ],
      "execution_count": 206,
      "outputs": [
        {
          "output_type": "display_data",
          "data": {
            "image/png": "[encoded data removed]",
            "text/plain": [
              "<PIL.Image.Image image mode=RGB size=297x170 at 0x7F9CFE0E07B8>"
            ]
          },
          "metadata": {
            "tags": []
          }
        },
        {
          "output_type": "execute_result",
          "data": {
            "text/plain": [
              "-1"
            ]
          },
          "metadata": {
            "tags": []
          },
          "execution_count": 206
        }
      ]
    },
    {
      "cell_type": "code",
      "metadata": {
        "id": "uhORQf-Exc9_"
      },
      "source": [
        ""
      ],
      "execution_count": 201,
      "outputs": []
    }
  ]
}